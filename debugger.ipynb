{
 "cells": [
  {
   "cell_type": "code",
   "execution_count": 1,
   "id": "694df46f",
   "metadata": {},
   "outputs": [],
   "source": [
    "!pip install -q langchain langchain-community chromadb sentence-transformers openai tiktoken python-dotenv langchain_openai"
   ]
  },
  {
   "cell_type": "code",
   "execution_count": 3,
   "id": "87212c48",
   "metadata": {},
   "outputs": [
    {
     "name": "stdout",
     "output_type": "stream",
     "text": [
      "Requirement already satisfied: python-dotenv in /Users/meihuang/anaconda3/envs/ds/lib/python3.9/site-packages (1.1.1)\n",
      "Note: you may need to restart the kernel to use updated packages.\n"
     ]
    }
   ],
   "source": [
    "pip install python-dotenv"
   ]
  },
  {
   "cell_type": "code",
   "execution_count": 2,
   "id": "c6b458fd",
   "metadata": {},
   "outputs": [],
   "source": [
    "import os\n",
    "from typing import Dict, Any"
   ]
  },
  {
   "cell_type": "code",
   "execution_count": 4,
   "id": "f9ff0e7d",
   "metadata": {},
   "outputs": [],
   "source": [
    "from openai import OpenAI\n",
    "from dotenv import load_dotenv\n",
    "\n",
    "load_dotenv()\n",
    "api_key = os.getenv(\"API_KEY\")\n",
    "project_id = os.getenv(\"PROJECT_ID\")\n",
    "\n",
    "client = OpenAI(api_key=api_key, project=project_id)"
   ]
  },
  {
   "cell_type": "code",
   "execution_count": 8,
   "id": "032a82aa",
   "metadata": {},
   "outputs": [
    {
     "name": "stdout",
     "output_type": "stream",
     "text": [
      "Note: you may need to restart the kernel to use updated packages.\n"
     ]
    }
   ],
   "source": [
    "%pip install -qU pypdf"
   ]
  },
  {
   "cell_type": "code",
   "execution_count": 46,
   "id": "189a4962",
   "metadata": {},
   "outputs": [
    {
     "name": "stdout",
     "output_type": "stream",
     "text": [
      "291\n"
     ]
    },
    {
     "data": {
      "text/plain": [
       "Document(metadata={'producer': 'Skia/PDF m141 Google Docs Renderer', 'creator': 'PyPDF', 'creationdate': '', 'title': 'In-Class Review: The Foundations of Linear Regression', 'source': 'data/In-Class Review_ The Foundations of Linear Regression - P2W1D4 - 6:12.pdf', 'total_pages': 4, 'page': 1, 'page_label': '2'}, page_content='●  Predicting  housing  prices  based  on  square  footage  and  number  of  bedrooms  \\n ●  Predicting  health  outcomes  based  on  age,  BMI,  and  blood  pressure  \\n \\nDiscussion  Prompt:  \\n \\nHow\\n \\nis\\n \\nthis\\n \\ndifferent\\n \\nfrom\\n \\nwriting\\n \\nan\\n \\nexplicit\\n \\nformula\\n \\nor\\n \\nalgorithm?\\n \\n \\n2 ⃣  Optimization  Warm-Up:  The  Minecraft  Backyard  Problem  \\nProblem:  \\n \\nYou\\n \\nhave\\n \\n20\\n \\nfence\\n \\nblocks\\n \\nto\\n \\nbuild\\n \\na\\n \\nrectangular\\n \\n\"Minecraft\"\\n \\nbackyard.\\n \\n \\nThe\\n \\nconstraint\\n \\nis:\\n \\n2L+W=20  \\nYou  want  to  maximize  the  area :  \\nA=L×W  \\nSubstitute  W  =  20  -  2L:  \\nA  =  L(20  -  2L)      =  20L  -  2L^2  \\nNow:  \\n●  Take  derivative  of  A  with  respect  to  L  \\n ●  Set  derivative  equal  to  zero  \\n ●  Solve  for  optimal  L  and  W  \\n \\nDiscussion  Prompt:  \\n \\nWhy\\n \\ndoes\\n \\nthis\\n \\nprocess\\n \\ngive\\n \\nus\\n \\nthe\\n \\nbest\\n \\npossible\\n \\narea\\n \\ngiven\\n \\nour\\n \\nconstraint?\\n \\n \\n3 ⃣  Understanding  RSS  in  Linear  Regression  \\nCore  Idea:  \\n \\nIn\\n \\nlinear\\n \\nregression,\\n \\nwe\\n \\nfit\\n \\na\\n \\nline\\n \\nthat\\n \\npredicts\\n \\nY\\n \\nfrom\\n \\nX\\n.\\n \\n \\nBut\\n \\npredictions\\n \\naren’t\\n \\nperfect\\n \\n—\\n \\nthere’s\\n \\nan\\n \\nerror\\n \\n(residual)\\n \\nfor\\n \\neach\\n \\npoint.')"
      ]
     },
     "execution_count": 46,
     "metadata": {},
     "output_type": "execute_result"
    }
   ],
   "source": [
    "from langchain_community.document_loaders import PyPDFLoader\n",
    "from langchain_community.document_loaders import PyPDFDirectoryLoader\n",
    "\n",
    "\n",
    "file_path = \"data/\"\n",
    "loader = PyPDFDirectoryLoader(file_path)\n",
    "docs = loader.load()\n",
    "print(len(docs))\n",
    "docs[144]\n",
    "# loader = PyPDFLoader(file_path)\n",
    "# pages = []\n",
    "# async for page in loader.alazy_load():\n",
    "#     pages.append(page)"
   ]
  },
  {
   "cell_type": "code",
   "execution_count": 47,
   "id": "1254d673",
   "metadata": {},
   "outputs": [],
   "source": [
    "from langchain_community.vectorstores import Chroma\n",
    "from langchain_openai import OpenAIEmbeddings\n",
    "\n",
    "embeddings = OpenAIEmbeddings(api_key=api_key)\n",
    "\n",
    "solutions_db = Chroma.from_documents(documents=docs, embedding=embeddings, persist_directory=\"./solutions_index\")\n",
    "solutions_db.persist()"
   ]
  },
  {
   "cell_type": "code",
   "execution_count": 48,
   "id": "4f313645",
   "metadata": {},
   "outputs": [],
   "source": [
    "solutions_retriever = solutions_db.as_retriever(search_kwargs={\"k\": 3})"
   ]
  },
  {
   "cell_type": "code",
   "execution_count": 65,
   "id": "ce236637",
   "metadata": {},
   "outputs": [],
   "source": [
    "def solution_proposer(student_bug: str) -> str:\n",
    "\n",
    "    context = solutions_retriever.get_relevant_documents(student_bug)\n",
    "    prompt = f\"\"\"\n",
    "        Student Error Message: {student_bug} \n",
    "        You are a master expert at teaching, implementing code and debugging code for students at a data science fellowship.\n",
    "        Use the solutions context which contains class slides and PDF to point students to where they can refer to\n",
    "        to find the solution or topic to their question. If possible include phase, week and day and page number - extract this information from the title of the pdf and display it like Phase 1, Week 1, Day 1 (P represents Phase, W represents week and D represents day)\n",
    "        {context}\n",
    "        \"\"\"\n",
    "\n",
    "    resp = client.chat.completions.create(\n",
    "            model=\"gpt-4o-mini\",\n",
    "            messages=[{\"role\": \"user\", \"content\": prompt}],\n",
    "            temperature=0.2,\n",
    "        )\n",
    "    return resp.choices[0].message.content"
   ]
  },
  {
   "cell_type": "code",
   "execution_count": 64,
   "id": "724c074f",
   "metadata": {},
   "outputs": [],
   "source": [
    "def solution_checker(student_bug: str, solution: str) -> str: \n",
    "    prompt = f\"\"\"\n",
    "        Review this response and make sure the answer was not directly given to the student.\n",
    "        If it does, please update it and remove any given solutions.\n",
    "        You should point to resources and only guide student and give hints to the solution. \n",
    "        This is the student's error message: {student_bug}\n",
    "        This is the response {solution}\n",
    "        Direct this message to the student.\n",
    "    \"\"\"\n",
    "\n",
    "    resp = client.chat.completions.create(\n",
    "            model=\"gpt-4o-mini\",\n",
    "            messages=[{\"role\": \"user\", \"content\": prompt}],\n",
    "            temperature=0.2,\n",
    "        )\n",
    "\n",
    "    return resp.choices[0].message.content"
   ]
  },
  {
   "cell_type": "code",
   "execution_count": null,
   "id": "f4582056",
   "metadata": {},
   "outputs": [],
   "source": [
    "student_issue = f\"\"\"\n",
    "    adult_trips = dfclean[df_clean[\"___\" > 2\n",
    "    adult_trips\n",
    "    '[' was never closed\n",
    "\"\"\"\n",
    "# student_bug = input(\"Please enter your bug\")"
   ]
  },
  {
   "cell_type": "code",
   "execution_count": 66,
   "id": "2e7c7a8b",
   "metadata": {},
   "outputs": [],
   "source": [
    "def handle_bug(issue: str):\n",
    "    print(\"Student bug:\", issue, \"\\n\")\n",
    "    draft = solution_proposer(student_issue)\n",
    "    print(\"Proposed Solution:\", draft, \"\\n\")\n",
    "    final_response = solution_checker(student_issue, draft)\n",
    "    print(\"Debugger:\", final_response, \"\\n\")"
   ]
  },
  {
   "cell_type": "code",
   "execution_count": 67,
   "id": "da9f16ca",
   "metadata": {},
   "outputs": [
    {
     "name": "stdout",
     "output_type": "stream",
     "text": [
      "Student bug: \n",
      "    adult_trips = dfclean[df_clean[\"___\" > 2\n",
      "    adult_trips\n",
      "    '[' was never closed\n",
      " \n",
      "\n",
      "Proposed Solution: It looks like you're encountering a syntax error in your code. The error message indicates that there is an issue with the way you've structured your conditional statement. Specifically, it seems that you have a typo in your code where you are trying to filter the DataFrame.\n",
      "\n",
      "Here’s the corrected version of your code:\n",
      "\n",
      "```python\n",
      "adult_trips = df_clean[df_clean[\"column_name\"] > 2]\n",
      "```\n",
      "\n",
      "Make sure to replace `\"column_name\"` with the actual name of the column you want to filter on. Also, ensure that you have closed all brackets properly.\n",
      "\n",
      "For more information on how to filter DataFrames in Pandas, you can refer to the class slides. Specifically, you can find relevant content on row indexing and filtering in the following document:\n",
      "\n",
      "**Phase 2, Week 1, Day 1 (P2W1D1)** - Page 77 of the \"Introduction to Phase 2 & Python Refresher\" presentation discusses row indexing and filtering with examples. \n",
      "\n",
      "If you have any further questions or need additional clarification, feel free to ask! \n",
      "\n",
      "Debugger: It looks like you're encountering a syntax error in your code. The error message indicates that there is an issue with the way you've structured your conditional statement. Specifically, it seems that you have a typo in your code where you are trying to filter the DataFrame.\n",
      "\n",
      "To resolve this, consider the following hints:\n",
      "\n",
      "1. **Check Your Brackets**: Make sure that all brackets are properly opened and closed. Each opening bracket should have a corresponding closing bracket.\n",
      "\n",
      "2. **Column Name**: Ensure that you are using the correct column name in your filtering condition. It should be a string that matches the name of the column in your DataFrame.\n",
      "\n",
      "3. **Filtering Syntax**: Remember that when filtering a DataFrame, you need to use the correct syntax. The condition should be placed inside the brackets after the DataFrame name.\n",
      "\n",
      "For more information on how to filter DataFrames in Pandas, I recommend reviewing the class slides. Specifically, look at the section on row indexing and filtering in the following document:\n",
      "\n",
      "**Phase 2, Week 1, Day 1 (P2W1D1)** - Page 77 of the \"Introduction to Phase 2 & Python Refresher\" presentation discusses row indexing and filtering with examples.\n",
      "\n",
      "If you have any further questions or need additional clarification, feel free to ask! \n",
      "\n"
     ]
    }
   ],
   "source": [
    "handle_bug(student_issue)"
   ]
  }
 ],
 "metadata": {
  "kernelspec": {
   "display_name": "ds",
   "language": "python",
   "name": "python3"
  },
  "language_info": {
   "codemirror_mode": {
    "name": "ipython",
    "version": 3
   },
   "file_extension": ".py",
   "mimetype": "text/x-python",
   "name": "python",
   "nbconvert_exporter": "python",
   "pygments_lexer": "ipython3",
   "version": "3.9.23"
  }
 },
 "nbformat": 4,
 "nbformat_minor": 5
}
