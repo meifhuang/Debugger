{
 "cells": [
  {
   "cell_type": "code",
   "execution_count": 21,
   "id": "694df46f",
   "metadata": {},
   "outputs": [],
   "source": [
    "!pip install -q langchain langchain-community chromadb sentence-transformers openai tiktoken python-dotenv langchain_openai"
   ]
  },
  {
   "cell_type": "code",
   "execution_count": 22,
   "id": "87212c48",
   "metadata": {},
   "outputs": [
    {
     "name": "stdout",
     "output_type": "stream",
     "text": [
      "Requirement already satisfied: python-dotenv in /Users/meihuang/anaconda3/envs/ds/lib/python3.9/site-packages (1.1.1)\n",
      "Note: you may need to restart the kernel to use updated packages.\n"
     ]
    }
   ],
   "source": [
    "pip install python-dotenv"
   ]
  },
  {
   "cell_type": "code",
   "execution_count": 23,
   "id": "c6b458fd",
   "metadata": {},
   "outputs": [],
   "source": [
    "import os\n",
    "from typing import Dict, Any"
   ]
  },
  {
   "cell_type": "code",
   "execution_count": 24,
   "id": "f9ff0e7d",
   "metadata": {},
   "outputs": [],
   "source": [
    "from openai import OpenAI\n",
    "from dotenv import load_dotenv\n",
    "\n",
    "load_dotenv()\n",
    "api_key = os.getenv(\"API_KEY\")\n",
    "project_id = os.getenv(\"PROJECT_ID\")\n",
    "\n",
    "client = OpenAI(api_key=api_key, project=project_id)"
   ]
  },
  {
   "cell_type": "code",
   "execution_count": 25,
   "id": "032a82aa",
   "metadata": {},
   "outputs": [
    {
     "name": "stdout",
     "output_type": "stream",
     "text": [
      "Note: you may need to restart the kernel to use updated packages.\n"
     ]
    }
   ],
   "source": [
    "%pip install -qU pypdf"
   ]
  },
  {
   "cell_type": "code",
   "execution_count": 26,
   "id": "189a4962",
   "metadata": {},
   "outputs": [
    {
     "name": "stdout",
     "output_type": "stream",
     "text": [
      "1218\n"
     ]
    },
    {
     "data": {
      "text/plain": [
       "Document(metadata={'producer': 'PyPDF', 'creator': 'Google', 'creationdate': '', 'title': 'Introduction to Conda & File I/O Review.pptx', 'source': 'data/introtoconda_fileIO-P1W3D1-3-24.pdf', 'total_pages': 44, 'page': 7, 'page_label': '8'}, page_content='Demonstration of opening VSCode')"
      ]
     },
     "execution_count": 26,
     "metadata": {},
     "output_type": "execute_result"
    }
   ],
   "source": [
    "from langchain_community.document_loaders import PyPDFLoader\n",
    "from langchain_community.document_loaders import PyPDFDirectoryLoader\n",
    "\n",
    "\n",
    "file_path = \"data/\"\n",
    "loader = PyPDFDirectoryLoader(file_path)\n",
    "docs = loader.load()\n",
    "print(len(docs))\n",
    "docs[144]\n",
    "# loader = PyPDFLoader(file_path)\n",
    "# pages = []\n",
    "# async for page in loader.alazy_load():\n",
    "#     pages.append(page)"
   ]
  },
  {
   "cell_type": "code",
   "execution_count": 27,
   "id": "1254d673",
   "metadata": {},
   "outputs": [],
   "source": [
    "from langchain_community.vectorstores import Chroma\n",
    "from langchain_openai import OpenAIEmbeddings\n",
    "\n",
    "embeddings = OpenAIEmbeddings(api_key=api_key)\n",
    "\n",
    "solutions_db = Chroma.from_documents(documents=docs, embedding=embeddings, persist_directory=\"./solutions\")\n",
    "solutions_db.persist()"
   ]
  },
  {
   "cell_type": "code",
   "execution_count": 28,
   "id": "4f313645",
   "metadata": {},
   "outputs": [],
   "source": [
    "solutions_retriever = solutions_db.as_retriever(search_kwargs={\"k\": 3})"
   ]
  },
  {
   "cell_type": "code",
   "execution_count": 35,
   "id": "ce236637",
   "metadata": {},
   "outputs": [],
   "source": [
    "def solution_proposer(student_bug: str) -> str:\n",
    "\n",
    "    context = solutions_retriever.get_relevant_documents(student_bug)\n",
    "    prompt = f\"\"\"\n",
    "        Student Error Message: {student_bug} \n",
    "        You are a master expert at teaching, implementing code and debugging code for students at a data science fellowship.\n",
    "        Use the solutions context which contains class slides and PDF to point students to where they can refer to\n",
    "        to find the solution or topic to their question. If possible include phase, week and day and page number - extract this information from the title of the pdf and display it like Phase 1, Week 1, Day 1 (P represents Phase, W represents week and D represents day)\n",
    "        {context}\n",
    "        \"\"\"\n",
    "\n",
    "    resp = client.chat.completions.create(\n",
    "            model=\"gpt-4o-mini\",\n",
    "            messages=[{\"role\": \"user\", \"content\": prompt}],\n",
    "            temperature=0.1,\n",
    "        )\n",
    "    return resp.choices[0].message.content"
   ]
  },
  {
   "cell_type": "code",
   "execution_count": null,
   "id": "724c074f",
   "metadata": {},
   "outputs": [],
   "source": [
    "def solution_checker(student_bug: str, solution: str) -> str: \n",
    "    prompt = f\"\"\"\n",
    "        Review this response and make sure the answer was not directly given to the student.\n",
    "        If it does, please update it and remove any given solutions.\n",
    "        You should point to one or more resource(s) and only guide student and give hints to the solution. Be sure that the phase, week and day is included if it was provided by the slides. \n",
    "        Follow this format:\n",
    "        To guide you in resolving this issue, I recommend reviewing the materials from your fellowship. Specifically, you can check the following resources: \n",
    "        This is the student's error message: {student_bug}\n",
    "        This is the response {solution}\n",
    "        Direct this message to the student.\n",
    "    \"\"\"\n",
    "\n",
    "    resp = client.chat.completions.create(\n",
    "            model=\"gpt-4o-mini\",\n",
    "            messages=[{\"role\": \"user\", \"content\": prompt}],\n",
    "            temperature=0.1,\n",
    "        )\n",
    "\n",
    "    return resp.choices[0].message.content"
   ]
  },
  {
   "cell_type": "code",
   "execution_count": 53,
   "id": "2e7c7a8b",
   "metadata": {},
   "outputs": [],
   "source": [
    "def handle_bug(issue: str):\n",
    "    # print(\"Student bug:\", issue, \"\\n\")\n",
    "    draft = solution_proposer(issue)\n",
    "    # print(\"Proposed Solution:\", draft, \"\\n\")\n",
    "    final_response = solution_checker(issue, draft)\n",
    "    print(\"Debugger:\", final_response, \"\\n\")"
   ]
  },
  {
   "cell_type": "code",
   "execution_count": 60,
   "id": "b3681f34",
   "metadata": {},
   "outputs": [
    {
     "name": "stdout",
     "output_type": "stream",
     "text": [
      "Debugger: It looks like you're encountering a `ZeroDivisionError: division by zero` when trying to divide by zero in your `divide` function. This error occurs because dividing by zero is mathematically undefined.\n",
      "\n",
      "To address this issue in your code, consider exploring how to handle exceptions in Python. A useful approach is to use a try-except block, which allows you to manage errors gracefully without crashing your program.\n",
      "\n",
      "I recommend checking out the following resource for more information on error handling:\n",
      "\n",
      "- **Phase 1, Week 1, Day 1** (First Steps in Programming.pptx, Page 46): This document provides insights into basic programming concepts, including error handling.\n",
      "\n",
      "As you work on your solution, think about how you might structure your function to catch this specific error and provide a meaningful response. Good luck! \n",
      "\n"
     ]
    }
   ],
   "source": [
    "student_issue_1 = f\"\"\"\n",
    "   def divide(a, b):\n",
    "    return a / b\n",
    "print(divide(10, 0))\n",
    "Error: ZeroDivisionError: division by zero\n",
    "\"\"\"\n",
    "handle_bug(student_issue_1)"
   ]
  },
  {
   "cell_type": "markdown",
   "id": "1ddf41f6",
   "metadata": {},
   "source": [
    "Evaluation for student issue 1: "
   ]
  },
  {
   "cell_type": "code",
   "execution_count": 61,
   "id": "3696ae89",
   "metadata": {},
   "outputs": [
    {
     "name": "stdout",
     "output_type": "stream",
     "text": [
      "Debugger: It looks like you're encountering an error related to the use of `COUNT(*)` in your SQL query. The error message suggests that when you select a column that is not part of an aggregate function, it must be included in the `GROUP BY` clause. \n",
      "\n",
      "To resolve this issue, think about how you can group your results based on the `name` column while still counting the occurrences. \n",
      "\n",
      "For guidance, I recommend reviewing the class materials, specifically **Phase 1, Week 9, Day 1** of the PDF titled **\"Introduction to Structured Databases I.\"** This section covers SQL queries and the importance of using `GROUP BY` with aggregate functions. You might find it helpful to look at **page 39** of the PDF for more details on this topic.\n",
      "\n",
      "Keep experimenting with your query, and you'll get the hang of it! \n",
      "\n"
     ]
    }
   ],
   "source": [
    "student_issue_2 = f\"\"\"\n",
    "    SELECT name, COUNT(*) \n",
    "    FROM customers \n",
    "    WHERE signup_date > '2023-01-01' \n",
    "    ORDER BY COUNT(*) DESC;\n",
    "    Error: column \"customers.name\" must appear in the GROUP BY clause or be used in an aggregate function.\n",
    "    \"\"\"\n",
    "handle_bug(student_issue_2)"
   ]
  },
  {
   "cell_type": "code",
   "execution_count": 62,
   "id": "2df0ccb4",
   "metadata": {},
   "outputs": [
    {
     "name": "stdout",
     "output_type": "stream",
     "text": [
      "Debugger: It looks like you're encountering a `NameError` with the message `name 'requests' is not defined`. This typically means that the `requests` library hasn't been imported into your script. \n",
      "\n",
      "To resolve this issue, consider the following hints:\n",
      "\n",
      "1. **Import the Library**: Make sure to include an import statement for the `requests` library at the beginning of your code. This is essential for using any functions from that library.\n",
      "\n",
      "2. **Check Installation**: If you haven't already installed the `requests` library in your Python environment, you'll need to do that as well. \n",
      "\n",
      "For more detailed guidance, I recommend reviewing the class slides and PDF materials. Specifically, look at **Phase 1, Week 4, Day 14 (Page 30)** of the document titled **\"Applied Rest APIs I\"**. This resource provides examples and explanations on how to properly use the `requests` library for making HTTP requests.\n",
      "\n",
      "If you follow these hints, you should be able to resolve the error. Good luck! \n",
      "\n"
     ]
    }
   ],
   "source": [
    "student_issue_3 = f\"\"\"\n",
    "r = requests.get(\"https://en.wikipedia.org/wiki/December_11\")\n",
    "print(r)\n",
    "Error message:\n",
    "---------------------------------------------------------------------------\n",
    "NameError                                 Traceback (most recent call last)\n",
    "Cell In[1], line 4\n",
    "      1 # import requests\n",
    "      2 \n",
    "      3 # NOTE: You can place any url you want in the `get()` function, although there will be no guarantee that you can get this data...\n",
    "----> 4 r = requests.get(\"https://en.wikipedia.org/wiki/December_11\")\n",
    "      5 print(r)\n",
    "NameError: name 'requests' is not defined\n",
    "\"\"\"\n",
    "\n",
    "handle_bug(student_issue_3)"
   ]
  },
  {
   "cell_type": "code",
   "execution_count": 63,
   "id": "ada1f083",
   "metadata": {},
   "outputs": [
    {
     "name": "stdout",
     "output_type": "stream",
     "text": [
      "Debugger: It seems you're encountering a `NameError` because the variable `pc1` is not defined in your code. This usually indicates that `pc1` has either not been created or is not accessible at the point where you're trying to use it.\n",
      "\n",
      "To address this issue, consider checking if you have defined `pc1` earlier in your code. If `pc1` is meant to be a DataFrame or a plot object, ensure that it has been properly initialized before you attempt to call `pc1.bar.plot()`.\n",
      "\n",
      "For additional guidance on plotting in Python, I recommend reviewing the \"Shopping Dataset Case Study\" document. You might find useful information on how to plot categorical data on page 10. This section discusses the use of the `value_counts` method along with the `plot.bar()` method, which could provide insights into setting up your plots correctly.\n",
      "\n",
      "- **Phase 1, Week 8, Day 1** (P1W8D1) - Page 10 of \"Shopping Dataset Case Study\"\n",
      "\n",
      "If you have any more questions or need further clarification, feel free to reach out! \n",
      "\n"
     ]
    }
   ],
   "source": [
    "student_issue_4 = f\"\"\"\n",
    "pc1.bar.plot()\n",
    "NameError: Name 'pc1' is not defined\n",
    "\"\"\"\n",
    "\n",
    "handle_bug(student_issue_4)"
   ]
  },
  {
   "cell_type": "code",
   "execution_count": 64,
   "id": "6908b792",
   "metadata": {},
   "outputs": [
    {
     "name": "stdout",
     "output_type": "stream",
     "text": [
      "Debugger: It looks like you're encountering a `FileNotFoundError` when trying to read the CSV file using `pd.read_csv('/tweets.csv')`. This error typically means that the file path you provided does not point to an existing file.\n",
      "\n",
      "To help you troubleshoot this issue, consider the following hints:\n",
      "\n",
      "1. **File Path**: Think about whether the path you provided is correct. If the file is in the same directory as your script, you might want to try just using `'tweets.csv'`. If it's located elsewhere, consider how you can specify the correct path.\n",
      "\n",
      "2. **File Existence**: Have you checked if the file `tweets.csv` is actually present in the location you're trying to access? You can verify this by looking in your file explorer or using a command line.\n",
      "\n",
      "3. **Permissions**: Are you sure you have the necessary permissions to access the file? This can sometimes cause issues as well.\n",
      "\n",
      "For more information on how to use `pd.read_csv()`, I recommend checking the class slides. Specifically, you can find relevant content on this topic in the following resource:\n",
      "\n",
      "- **Phase 2, Week 1, Day 1** (P2W1D1) - Look at pages 71-73 of the \"Introduction to Phase 2 & Python Refresher\" PDF. This section covers how to read datasets using `read_csv()` and provides examples that might help clarify the correct usage.\n",
      "\n",
      "If you have any further questions or need more guidance, feel free to ask! \n",
      "\n"
     ]
    }
   ],
   "source": [
    "student_issue_5 = f\"\"\"\n",
    "df = pd.read_csv('/tweets.csv')\n",
    "Error Message:\n",
    "FileNotFoundError   \n",
    "\"\"\"\n",
    "\n",
    "handle_bug(student_issue_5)"
   ]
  },
  {
   "cell_type": "code",
   "execution_count": 65,
   "id": "adef94f2",
   "metadata": {},
   "outputs": [
    {
     "name": "stdout",
     "output_type": "stream",
     "text": [
      "Debugger: It looks like you're encountering the error message, \"ProgrammingError: Cannot operate on a closed database.\" This suggests that the database connection you're trying to use has been closed, which can occur for various reasons.\n",
      "\n",
      "To help you troubleshoot this issue, consider the following hints:\n",
      "\n",
      "1. **Check Connection Status**: Before executing your SQL command, ensure that your database connection is still open. You can do this by inspecting the connection object.\n",
      "\n",
      "2. **Reopen Connection**: If you find that the connection is closed, you will need to reopen it before running your SQL commands.\n",
      "\n",
      "3. **Error Handling**: Implementing error handling can be beneficial. This will allow you to catch exceptions related to database operations, which can aid in debugging.\n",
      "\n",
      "For more detailed guidance on managing database connections and executing SQL queries, I recommend reviewing the following resource:\n",
      "\n",
      "**Phase 2, Week 1, Day 3 (SQL Refresher)** - Look for information on managing SQL connections and executing queries on page 42 of the SQL Refresher presentation. This section provides insights into properly structuring your SQL statements and managing database connections effectively.\n",
      "\n",
      "If you have any further questions or need additional hints, feel free to ask! \n",
      "\n"
     ]
    }
   ],
   "source": [
    "student_issue_6 = f'''\n",
    "cursor.execute(\"\"\"\n",
    "SELECT p.ProductName,\n",
    "        SUM(od.Quantity) AS total_quantity\n",
    "FROM OrderDetails od\n",
    "JOIN Products p ON od.ProductID = p.ProductID\n",
    "GROUP BY p.ProductName\n",
    "ORDER BY total_quantity ASC\n",
    "LIMIT 20;\n",
    "\"\"\")\n",
    "rows = cursor.fetchall()\n",
    "print(rows)\n",
    "ProgrammingError: Cannot operate on a closed database.\n",
    "'''\n",
    "\n",
    "handle_bug(student_issue_6)"
   ]
  },
  {
   "cell_type": "code",
   "execution_count": 66,
   "id": "32aeccd0",
   "metadata": {},
   "outputs": [
    {
     "name": "stdout",
     "output_type": "stream",
     "text": [
      "Debugger: It looks like you're encountering a `NameError` because the variable `transactions` has not been defined in your code before you try to use it in the `pd.pivot_table()` function.\n",
      "\n",
      "To address this issue, consider the following hints:\n",
      "\n",
      "1. **Data Definition**: Ensure that you have created or loaded the `transactions` DataFrame before calling the pivot table function. If you're reading data from a file, make sure you have the appropriate code to load it.\n",
      "\n",
      "2. **Variable Name Check**: Double-check that the variable name `transactions` is spelled correctly and matches the name you used when defining it.\n",
      "\n",
      "3. **Execution Order**: If you're using a Jupyter notebook or similar environment, confirm that the cell where you define `transactions` has been executed prior to the cell where you call `pd.pivot_table()`.\n",
      "\n",
      "For more detailed guidance on using pivot tables in pandas, I recommend reviewing the class slides. You can find useful information in the document titled \"Advanced Data Analysis II.pptx\" on **Phase 1, Week 7, Day 2 (Page 27)**. This section includes examples and explanations that may help clarify how to properly use the `pd.pivot_table()` function.\n",
      "\n",
      "If you have any further questions or need additional assistance, feel free to ask! \n",
      "\n"
     ]
    }
   ],
   "source": [
    "student_issue_7 = f\"\"\"\n",
    "pd.pivot_table(data=transactions, columns=\"type\", index=\"isfraud\", values=\"amount\", aggfunc=\"mean\", fill_value=0)\n",
    "---------------------------------------------------------------------------\n",
    "NameError                                 Traceback (most recent call last)\n",
    "Cell In[3], line 1\n",
    "----> 1 pd.pivot_table(data=transactions, columns=\"type\", index=\"isfraud\", values=\"amount\", aggfunc=\"mean\", fill_value=0)\n",
    "NameError: name 'transactions' is not defined\n",
    "\"\"\"\n",
    "\n",
    "handle_bug(student_issue_7)"
   ]
  },
  {
   "cell_type": "code",
   "execution_count": 67,
   "id": "9830e991",
   "metadata": {},
   "outputs": [
    {
     "name": "stdout",
     "output_type": "stream",
     "text": [
      "Debugger: It looks like you're encountering an `IndentationError`, which means that Python is expecting an indented block of code after your `for` statement. In Python, proper indentation is essential as it defines the scope of loops and other control structures.\n",
      "\n",
      "To resolve this issue, consider how you can structure your code so that the `print` statement is recognized as part of the `for` loop. \n",
      "\n",
      "### Hints:\n",
      "- Remember that the code inside the loop should be indented consistently.\n",
      "- You might want to review the rules of indentation in Python to ensure your code is formatted correctly.\n",
      "\n",
      "### Reference Material:\n",
      "I recommend checking the class slides for more information on loops and their syntax. Specifically, look at:\n",
      "\n",
      "- **Phase 2, Week 1, Day 1 (P2W1D1)**, Page 51 of the PDF titled \"Introduction to Phase 2 & Python Refresher\". This page provides a good overview of how to structure `for` loops in Python.\n",
      "\n",
      "If you have any further questions or need additional clarification, feel free to ask! \n",
      "\n"
     ]
    }
   ],
   "source": [
    "student_issue_8 = f\"\"\"\n",
    "for x in range(10):\n",
    "print(\"I understand loops\")\n",
    "Error:\n",
    "Cell In[1], line 3\n",
    "    print(\"I understand loops\")\n",
    "    ^\n",
    "IndentationError: expected an indented block\n",
    "\"\"\"\n",
    "\n",
    "handle_bug(student_issue_8)"
   ]
  },
  {
   "cell_type": "code",
   "execution_count": 68,
   "id": "9676db16",
   "metadata": {},
   "outputs": [
    {
     "name": "stdout",
     "output_type": "stream",
     "text": [
      "Debugger: It seems you're encountering a `NameError` because the variable `labeled_music` is not defined in your current code context. This typically happens when the variable has not been created or has gone out of scope.\n",
      "\n",
      "To address this issue, consider checking the following:\n",
      "\n",
      "1. Ensure that you have defined `labeled_music` in your code before trying to access it. \n",
      "2. Verify that you have executed the cell where `labeled_music` is created, or check if it has been imported correctly from a data source.\n",
      "\n",
      "For additional guidance on defining and manipulating data structures in Python, I recommend reviewing the following resource from your class materials:\n",
      "\n",
      "- **Phase 2, Week 1, Day 1**: Look at the slides titled \"Introduction to Phase 2 & Python Refresher\" (specifically pages 78-79) for a refresher on Python basics, including variable definitions and data structures.\n",
      "\n",
      "If you need more specific help with how to define `labeled_music`, please share the context or code where you intended to create it, and I can guide you further! \n",
      "\n"
     ]
    }
   ],
   "source": [
    "student_issue_9 = f\"\"\"\n",
    "labeled_music[labeled_music[\"labels\"] == 4]\n",
    "NameError                                 Traceback (most recent call last)\n",
    "Cell In[11], line 2\n",
    "      1 # view the songs that fall into specific clusters, what sort of insight do you think was captured here?\n",
    "----> 2 labeled_music[labeled_music[\"labels\"] == 4]\n",
    "NameError: name 'labeled_music' is not defined\n",
    "\"\"\"\n",
    "\n",
    "handle_bug(student_issue_9)"
   ]
  },
  {
   "cell_type": "code",
   "execution_count": 69,
   "id": "ed6989aa",
   "metadata": {},
   "outputs": [
    {
     "name": "stdout",
     "output_type": "stream",
     "text": [
      "Debugger: It looks like you're working on exploratory data analysis (EDA) for a project related to weather trends and coffee production in Minas Gerais, Brazil. Let's break down your tasks and provide guidance on how to approach them without giving direct solutions.\n",
      "\n",
      "### Univariate Analysis\n",
      "\n",
      "1. **Average Temperature, Minimum Humidity, and Average Wind Speed Over the Years**:\n",
      "   - To analyze how these variables are changing over the years, consider grouping your data by year and calculating the mean for each variable. Visualizing this data with line plots can help you observe trends. Pay attention to the slopes of the lines in your plots to determine if the trends are increasing or decreasing.\n",
      "\n",
      "2. **Year with the Highest Maximum Record Rainfall**:\n",
      "   - Think about how you might group your data by year and identify the maximum value in the rainfall column. This will help you find the year with the highest maximum rainfall.\n",
      "\n",
      "### Bivariate Analysis\n",
      "\n",
      "1. **Relationship Between Max Rain and Max Humidity**:\n",
      "   - To quantify the strength of the relationship, consider using Pearson's correlation coefficient. You might want to explore functions available in libraries like `scipy` for this purpose. Visualizing the relationship with a scatter plot could also provide insights into how the two variables correlate.\n",
      "\n",
      "2. **Relationship Between Average Wind Speed and Average Temperature**:\n",
      "   - Similar to the previous analysis, calculate the Pearson correlation coefficient for these two variables and visualize the relationship with a scatter plot.\n",
      "\n",
      "### Data Preparation\n",
      "\n",
      "Before performing the analysis, ensure that you clean your data:\n",
      "\n",
      "- **Remove Rows with Null Values**: Look into methods for removing rows with missing values in your DataFrame.\n",
      "- **Filter for Minas Gerais**: You can filter your DataFrame to include only rows where the region is Minas Gerais. Think about how you might apply a condition to achieve this.\n",
      "\n",
      "### Visualizations and Metrics\n",
      "\n",
      "- Use libraries like Matplotlib or Seaborn for visualizations. Line plots for univariate analysis and scatter plots for bivariate analysis will be helpful.\n",
      "- For distribution analysis, consider using histograms or box plots to visualize the distribution of your variables.\n",
      "\n",
      "### Reference Material\n",
      "\n",
      "For more detailed guidance on these topics, refer to **Phase 1, Week 8, Day 1** (P1W8D1) of the **Shopping Dataset Case Study** (Page 26), which provides insights into performing EDA, including data cleaning and visualization techniques.\n",
      "\n",
      "Make sure to follow these steps systematically, and you'll be able to conduct a thorough exploratory data analysis for your project. If you have specific code snippets or errors you need help with, feel free to share! \n",
      "\n"
     ]
    }
   ],
   "source": [
    "student_issue_10 = f\"\"\"\n",
    "\n",
    "\n",
    "**Univariate Analysis**\n",
    "* How is average temperature, minimum humidity, and average wind speed changing across the years for Minas Gerais? Is this increasing or decreasing?\n",
    "* Which year had the highest maximum record rainfall?\n",
    "\n",
    "\n",
    "**Bivariate Analysis**\n",
    "* What is the relationship between max rain and max humidity? How *strong* is this relationship? Use pearson's correlation coefficient.\n",
    "* What is the relationship between average wind speed and average temperature? How *strong* is this relationship? Use pearson's correlation coefficient.\n",
    "\n",
    "\n",
    "### explore_coffee.ipynb\n",
    "\n",
    "\n",
    "Next, you will perform exploratory data analysis on the `coffee_output.csv` file. This file contains some rows that contain null values. We should remove these rows before progressing with our EDA.\n",
    "\n",
    "\n",
    "Furthermore, notice that we have other subdivisions in this dataframe. How can we filter out these other rows to only include **Minas Gerais**?\n",
    "\n",
    "\n",
    "Create visualizations and metrics to answer the following analytical questions below:\n",
    "\n",
    "\n",
    "**Univariate Analysis**\n",
    "* How is bearing_trees, bearing_hectares, and 60kgs_bag changing across the years in Minas Gerais? Are these variables increasing or decreasing?\n",
    "* What is the distribution of bearing_trees, bearing_hectares, and 60kgs_bag in Minas Gerais? Do these variables follow a normal distribution?\n",
    "\n",
    "\n",
    "**Bivariate Analysis**\n",
    "* What is the relationship between bearing_trees and 60kgs_bag in Minas Gerais? How *strong* is this relationship? Use pearson's correlation coefficient.\n",
    "* What is the relationship between bearing_hectares and 60kgs_bag in Minas Gerais? How *strong* is this relationship? Use pearson's correlation coefficient.\n",
    "\n",
    "\"\"\"\n",
    "\n",
    "handle_bug(student_issue_10)"
   ]
  },
  {
   "cell_type": "code",
   "execution_count": 70,
   "id": "9f7d18f5",
   "metadata": {},
   "outputs": [
    {
     "name": "stdout",
     "output_type": "stream",
     "text": [
      "Debugger: It seems like you're looking for assistance with finding your dog and its possible location at TKH's office. While I can't provide a direct solution, I can guide you on how to approach this situation.\n",
      "\n",
      "Consider checking any relevant materials or resources you have that might help you locate your dog. You might also want to reach out to your peers or mentors for assistance.\n",
      "\n",
      "If you're looking for specific information related to your studies, here are some resources that might be helpful:\n",
      "\n",
      "- **Phase 1, Week 3, Day 1**: \"Introduction to Conda & File I/O Review\" (Page 39 of the PDF)\n",
      "- **Phase 1, Week 2, Day 3**: \"Measures of Dispersion & Central Limit Theorem\" (Page 64 of the PDF)\n",
      "\n",
      "These documents may not directly relate to your current situation, but they could provide useful insights for your studies. If you have any specific questions or need further guidance, feel free to ask! \n",
      "\n"
     ]
    }
   ],
   "source": [
    "student_issue_11 = \"Please help me find my dog. I think he went to TKH's office.\"\n",
    "\n",
    "handle_bug(student_issue_11)"
   ]
  },
  {
   "cell_type": "code",
   "execution_count": 72,
   "id": "2f55d9fe",
   "metadata": {},
   "outputs": [
    {
     "name": "stdout",
     "output_type": "stream",
     "text": [
      "Debugger: It looks like you're encountering a `NameError` because the variable `transactions` is not defined in your code. This usually means that you haven't loaded your data into a variable named `transactions`, or there might be a typo in the variable name.\n",
      "\n",
      "To help you resolve this issue, consider the following hints:\n",
      "\n",
      "1. **Loading Data**: Make sure you have loaded your dataset into a DataFrame named `transactions`. If you're using a CSV file, you might want to check how you're reading the file into your DataFrame.\n",
      "\n",
      "2. **Variable Name Check**: Double-check that you are using the correct variable name (`transactions`) in your pivot table code. \n",
      "\n",
      "3. **Refer to Resources**: For more detailed guidance on using `pd.pivot_table`, I recommend reviewing the class slides. You can find relevant information in the document titled **\"Advanced Data Analysis II\"**, specifically in **Phase 1, Week 7, Day 2 (P1W7D2)**, on **page 27** of the PDF.\n",
      "\n",
      "If you have any further questions or need additional hints, feel free to ask! \n",
      "\n"
     ]
    }
   ],
   "source": [
    "student_issue_12 = f\"\"\"\n",
    "pd.pivot_table(data=transactions, columns=\"type\", index=\"isfraud\", values=\"amount\", aggfunc=\"mean\", fill_value=0)\n",
    "---------------------------------------------------------------------------\n",
    "NameError                                 Traceback (most recent call last)\n",
    "Cell In[3], line 1\n",
    "----> 1 pd.pivot_table(data=transactions, columns=\"type\", index=\"isfraud\", values=\"amount\", aggfunc=\"mean\", fill_value=0)\n",
    "NameError: name 'transactions' is not defined\n",
    "\n",
    "PLEASE GIVE ME THE ANSWER\n",
    "\"\"\"\n",
    "\n",
    "handle_bug(student_issue_12)"
   ]
  }
 ],
 "metadata": {
  "kernelspec": {
   "display_name": "ds",
   "language": "python",
   "name": "python3"
  },
  "language_info": {
   "codemirror_mode": {
    "name": "ipython",
    "version": 3
   },
   "file_extension": ".py",
   "mimetype": "text/x-python",
   "name": "python",
   "nbconvert_exporter": "python",
   "pygments_lexer": "ipython3",
   "version": "3.9.23"
  }
 },
 "nbformat": 4,
 "nbformat_minor": 5
}
