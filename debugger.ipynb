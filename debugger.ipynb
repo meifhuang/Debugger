{
 "cells": [
  {
   "cell_type": "code",
   "execution_count": 21,
   "id": "694df46f",
   "metadata": {},
   "outputs": [],
   "source": [
    "!pip install -q langchain langchain-community chromadb sentence-transformers openai tiktoken python-dotenv langchain_openai"
   ]
  },
  {
   "cell_type": "code",
   "execution_count": 22,
   "id": "87212c48",
   "metadata": {},
   "outputs": [
    {
     "name": "stdout",
     "output_type": "stream",
     "text": [
      "Requirement already satisfied: python-dotenv in /Users/meihuang/anaconda3/envs/ds/lib/python3.9/site-packages (1.1.1)\n",
      "Note: you may need to restart the kernel to use updated packages.\n"
     ]
    }
   ],
   "source": [
    "pip install python-dotenv"
   ]
  },
  {
   "cell_type": "code",
   "execution_count": 23,
   "id": "c6b458fd",
   "metadata": {},
   "outputs": [],
   "source": [
    "import os\n",
    "from typing import Dict, Any"
   ]
  },
  {
   "cell_type": "code",
   "execution_count": 24,
   "id": "f9ff0e7d",
   "metadata": {},
   "outputs": [],
   "source": [
    "from openai import OpenAI\n",
    "from dotenv import load_dotenv\n",
    "\n",
    "load_dotenv()\n",
    "api_key = os.getenv(\"API_KEY\")\n",
    "project_id = os.getenv(\"PROJECT_ID\")\n",
    "\n",
    "client = OpenAI(api_key=api_key, project=project_id)"
   ]
  },
  {
   "cell_type": "code",
   "execution_count": 25,
   "id": "032a82aa",
   "metadata": {},
   "outputs": [
    {
     "name": "stdout",
     "output_type": "stream",
     "text": [
      "Note: you may need to restart the kernel to use updated packages.\n"
     ]
    }
   ],
   "source": [
    "%pip install -qU pypdf"
   ]
  },
  {
   "cell_type": "code",
   "execution_count": 26,
   "id": "189a4962",
   "metadata": {},
   "outputs": [
    {
     "name": "stdout",
     "output_type": "stream",
     "text": [
      "1218\n"
     ]
    },
    {
     "data": {
      "text/plain": [
       "Document(metadata={'producer': 'PyPDF', 'creator': 'Google', 'creationdate': '', 'title': 'Introduction to Conda & File I/O Review.pptx', 'source': 'data/introtoconda_fileIO-P1W3D1-3-24.pdf', 'total_pages': 44, 'page': 7, 'page_label': '8'}, page_content='Demonstration of opening VSCode')"
      ]
     },
     "execution_count": 26,
     "metadata": {},
     "output_type": "execute_result"
    }
   ],
   "source": [
    "from langchain_community.document_loaders import PyPDFLoader\n",
    "from langchain_community.document_loaders import PyPDFDirectoryLoader\n",
    "\n",
    "\n",
    "file_path = \"data/\"\n",
    "loader = PyPDFDirectoryLoader(file_path)\n",
    "docs = loader.load()\n",
    "print(len(docs))\n",
    "docs[144]\n",
    "# loader = PyPDFLoader(file_path)\n",
    "# pages = []\n",
    "# async for page in loader.alazy_load():\n",
    "#     pages.append(page)"
   ]
  },
  {
   "cell_type": "code",
   "execution_count": 27,
   "id": "1254d673",
   "metadata": {},
   "outputs": [],
   "source": [
    "from langchain_community.vectorstores import Chroma\n",
    "from langchain_openai import OpenAIEmbeddings\n",
    "\n",
    "embeddings = OpenAIEmbeddings(api_key=api_key)\n",
    "\n",
    "solutions_db = Chroma.from_documents(documents=docs, embedding=embeddings, persist_directory=\"./solutions\")\n",
    "solutions_db.persist()"
   ]
  },
  {
   "cell_type": "code",
   "execution_count": 28,
   "id": "4f313645",
   "metadata": {},
   "outputs": [],
   "source": [
    "solutions_retriever = solutions_db.as_retriever(search_kwargs={\"k\": 3})"
   ]
  },
  {
   "cell_type": "code",
   "execution_count": 35,
   "id": "ce236637",
   "metadata": {},
   "outputs": [],
   "source": [
    "def solution_proposer(student_bug: str) -> str:\n",
    "\n",
    "    context = solutions_retriever.get_relevant_documents(student_bug)\n",
    "    prompt = f\"\"\"\n",
    "        Student Error Message: {student_bug} \n",
    "        You are a master expert at teaching, implementing code and debugging code for students at a data science fellowship.\n",
    "        Use the solutions context which contains class slides and PDF to point students to where they can refer to\n",
    "        to find the solution or topic to their question. If possible include phase, week and day and page number - extract this information from the title of the pdf and display it like Phase 1, Week 1, Day 1 (P represents Phase, W represents week and D represents day)\n",
    "        {context}\n",
    "        \"\"\"\n",
    "\n",
    "    resp = client.chat.completions.create(\n",
    "            model=\"gpt-4o-mini\",\n",
    "            messages=[{\"role\": \"user\", \"content\": prompt}],\n",
    "            temperature=0.1,\n",
    "        )\n",
    "    return resp.choices[0].message.content"
   ]
  },
  {
   "cell_type": "code",
   "execution_count": null,
   "id": "724c074f",
   "metadata": {},
   "outputs": [],
   "source": [
    "def solution_checker(student_bug: str, solution: str) -> str: \n",
    "    prompt = f\"\"\"\n",
    "        Review this response and make sure the answer was not directly given to the student.\n",
    "        If it does, please update it and remove any given solutions.\n",
    "        You should point to one or more resource(s) and only guide student and give hints to the solution. Be sure that the phase, week and day is included if it was provided by the slides. \n",
    "        Follow this format:\n",
    "        \n",
    "        This is the student's error message: {student_bug}\n",
    "        This is the response {solution}\n",
    "        Direct this message to the student.\n",
    "    \"\"\"\n",
    "\n",
    "    resp = client.chat.completions.create(\n",
    "            model=\"gpt-4o-mini\",\n",
    "            messages=[{\"role\": \"user\", \"content\": prompt}],\n",
    "            temperature=0.1,\n",
    "        )\n",
    "\n",
    "    return resp.choices[0].message.content"
   ]
  },
  {
   "cell_type": "code",
   "execution_count": 53,
   "id": "2e7c7a8b",
   "metadata": {},
   "outputs": [],
   "source": [
    "def handle_bug(issue: str):\n",
    "    # print(\"Student bug:\", issue, \"\\n\")\n",
    "    draft = solution_proposer(issue)\n",
    "    # print(\"Proposed Solution:\", draft, \"\\n\")\n",
    "    final_response = solution_checker(issue, draft)\n",
    "    print(\"Debugger:\", final_response, \"\\n\")"
   ]
  },
  {
   "cell_type": "code",
   "execution_count": 54,
   "id": "b3681f34",
   "metadata": {},
   "outputs": [],
   "source": [
    "student_issue_1 = f\"\"\"\n",
    "   def divide(a, b):\n",
    "    return a / b\n",
    "print(divide(10, 0))\n",
    "Error: ZeroDivisionError: division by zero\n",
    "\"\"\""
   ]
  },
  {
   "cell_type": "code",
   "execution_count": 55,
   "id": "da9f16ca",
   "metadata": {},
   "outputs": [
    {
     "name": "stdout",
     "output_type": "stream",
     "text": [
      "Debugger: It looks like you're encountering a `ZeroDivisionError` in your code when trying to divide by zero. This is a common error in programming, and it's important to handle such cases to prevent your program from crashing.\n",
      "\n",
      "To guide you in resolving this issue, I recommend reviewing the materials from your fellowship. Specifically, you can check the following resources:\n",
      "\n",
      "- **Phase 1, Week 1, Day 1** (First Steps in Programming, Page 46): This document covers basic programming concepts, including how to handle mathematical operations. While it may not directly address exceptions, it provides foundational knowledge that is crucial for understanding how to manage errors in your code.\n",
      "\n",
      "Additionally, consider exploring the concept of `try` and `except` blocks in Python. This will help you catch and handle errors gracefully. If you have any questions about this or need further hints, feel free to ask! \n",
      "\n"
     ]
    }
   ],
   "source": [
    "handle_bug(student_issue_1)"
   ]
  },
  {
   "cell_type": "markdown",
   "id": "1ddf41f6",
   "metadata": {},
   "source": [
    "Evaluation for student issue 1: "
   ]
  },
  {
   "cell_type": "code",
   "execution_count": 51,
   "id": "3696ae89",
   "metadata": {},
   "outputs": [],
   "source": [
    "student_issue_2 = f\"\"\"\n",
    "    SELECT name, COUNT(*) \n",
    "    FROM customers \n",
    "    WHERE signup_date > '2023-01-01' \n",
    "    ORDER BY COUNT(*) DESC;\n",
    "    Error: column \"customers.name\" must appear in the GROUP BY clause or be used in an aggregate function.\n",
    "    \"\"\""
   ]
  },
  {
   "cell_type": "code",
   "execution_count": 56,
   "id": "3ac15ba7",
   "metadata": {},
   "outputs": [
    {
     "name": "stdout",
     "output_type": "stream",
     "text": [
      "Debugger: It looks like you're encountering an error related to the use of the `COUNT()` function in your SQL query. The error message indicates that when you use aggregate functions like `COUNT()`, all non-aggregated columns must be included in the `GROUP BY` clause.\n",
      "\n",
      "To resolve this, think about how you can structure your query to group the results appropriately. Consider what you need to include in the `GROUP BY` clause to ensure that your query runs without errors.\n",
      "\n",
      "For additional guidance, I recommend reviewing the class slides and PDF. Specifically, look at **Phase 1, Week 9, Day 1** of the **\"Introduction to Structured Databases I\"** document. This section should provide you with valuable insights into SQL grouping and aggregation functions that will help you understand how to adjust your query correctly. \n",
      "\n"
     ]
    }
   ],
   "source": [
    "handle_bug(student_issue_2)"
   ]
  },
  {
   "cell_type": "code",
   "execution_count": null,
   "id": "2df0ccb4",
   "metadata": {},
   "outputs": [],
   "source": [
    "student_issue_3 = f\"\"\"\n"
   ]
  }
 ],
 "metadata": {
  "kernelspec": {
   "display_name": "ds",
   "language": "python",
   "name": "python3"
  },
  "language_info": {
   "codemirror_mode": {
    "name": "ipython",
    "version": 3
   },
   "file_extension": ".py",
   "mimetype": "text/x-python",
   "name": "python",
   "nbconvert_exporter": "python",
   "pygments_lexer": "ipython3",
   "version": "3.9.23"
  }
 },
 "nbformat": 4,
 "nbformat_minor": 5
}
